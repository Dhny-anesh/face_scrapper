{
 "cells": [
  {
   "cell_type": "code",
   "execution_count": null,
   "metadata": {},
   "outputs": [],
   "source": [
    "import face_recognition\n",
    "import os\n",
    "from shutil import copy2\n",
    "\n",
    "# Load the image of the person we're looking for\n",
    "target_image_path = '\"D:\\python-fun-stuff\\face_scrapper\\tanvi.jpg\"'\n",
    "target_image = face_recognition.load_image_file(target_image_path)\n",
    "target_face_encoding = face_recognition.face_encodings(target_image)[0]\n",
    "\n",
    "# Create a directory for detected faces if it doesn't exist\n",
    "detected_faces_dir = 'detected_faces'\n",
    "if not os.path.exists(detected_faces_dir):\n",
    "    os.makedirs(detected_faces_dir)\n",
    "\n",
    "# Path to the directory containing all the images to scan\n",
    "images_dir = 'D:\\python-fun-stuff\\face_scrapper\\tanvis'\n",
    "\n",
    "# Loop through all the images in the directory\n",
    "for image_file in os.listdir(images_dir):\n",
    "    # Construct the full path to the image\n",
    "    image_path = os.path.join(images_dir, image_file)\n",
    "    \n",
    "    # Load the image using face_recognition\n",
    "    current_image = face_recognition.load_image_file(image_path)\n",
    "    \n",
    "    # Attempt to find faces in the current image\n",
    "    current_image_encodings = face_recognition.face_encodings(current_image)\n",
    "    \n",
    "    # If no faces are found, skip to the next image\n",
    "    if len(current_image_encodings) == 0:\n",
    "        continue\n",
    "    \n",
    "    # Loop through each face found in the current image\n",
    "    for face_encoding in current_image_encodings:\n",
    "        # Check if the face matches the target face\n",
    "        results = face_recognition.compare_faces([target_face_encoding], face_encoding, tolerance=0.6)\n",
    "        \n",
    "        # If a match is found, save the image to the detected_faces directory\n",
    "        if True in results:\n",
    "            copy2(image_path, detected_faces_dir)\n",
    "            break  # No need to check the remaining faces, move to the next image\n",
    "\n",
    "print(\"Process completed.\")\n"
   ]
  }
 ],
 "metadata": {
  "language_info": {
   "name": "python"
  }
 },
 "nbformat": 4,
 "nbformat_minor": 2
}
