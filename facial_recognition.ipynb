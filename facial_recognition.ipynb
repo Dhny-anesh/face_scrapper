{
 "cells": [
  {
   "cell_type": "markdown",
   "metadata": {},
   "source": [
    "# Code to take the input from predifined image"
   ]
  },
  {
   "cell_type": "code",
   "execution_count": 3,
   "metadata": {},
   "outputs": [
    {
     "name": "stdout",
     "output_type": "stream",
     "text": [
      "Process completed.\n"
     ]
    }
   ],
   "source": [
    "import face_recognition\n",
    "import os\n",
    "from shutil import copy2\n",
    "\n",
    "# Load the image of the person we're looking for\n",
    "target_image_path = \"tanvi.jpg\"\n",
    "target_image = face_recognition.load_image_file(target_image_path)\n",
    "target_face_encoding = face_recognition.face_encodings(target_image)[0]\n",
    "\n",
    "# Create a directory for detected faces if it doesn't exist\n",
    "detected_faces_dir = 'detected_faces'\n",
    "if not os.path.exists(detected_faces_dir):\n",
    "    os.makedirs(detected_faces_dir)\n",
    "\n",
    "# Path to the directory containing all the images to scan\n",
    "images_dir = \"tanvis\"\n",
    "\n",
    "# Loop through all the images in the directory\n",
    "for image_file in os.listdir(images_dir):\n",
    "    # Construct the full path to the image\n",
    "    image_path = os.path.join(images_dir, image_file)\n",
    "    \n",
    "    # Load the image using face_recognition\n",
    "    current_image = face_recognition.load_image_file(image_path)\n",
    "    \n",
    "    # Attempt to find faces in the current image\n",
    "    current_image_encodings = face_recognition.face_encodings(current_image)\n",
    "    \n",
    "    # If no faces are found, skip to the next image\n",
    "    if len(current_image_encodings) == 0:\n",
    "        continue\n",
    "    \n",
    "    # Loop through each face found in the current image\n",
    "    for face_encoding in current_image_encodings:\n",
    "        # Check if the face matches the target face\n",
    "        results = face_recognition.compare_faces([target_face_encoding], face_encoding, tolerance=0.6)\n",
    "        \n",
    "        # If a match is found, save the image to the detected_faces directory\n",
    "        if True in results:\n",
    "            copy2(image_path, detected_faces_dir)\n",
    "            break  # No need to check the remaining faces, move to the next image\n",
    "\n",
    "print(\"Process completed.\")\n"
   ]
  },
  {
   "cell_type": "markdown",
   "metadata": {},
   "source": [
    "# Code to take the input from camera"
   ]
  },
  {
   "cell_type": "code",
   "execution_count": 1,
   "metadata": {},
   "outputs": [
    {
     "name": "stdout",
     "output_type": "stream",
     "text": [
      "Process completed.\n"
     ]
    }
   ],
   "source": [
    "import cv2\n",
    "import face_recognition\n",
    "import os\n",
    "from shutil import copy2\n",
    "\n",
    "def capture_target_face(file_path=\"target_face.jpg\"):\n",
    "    \"\"\"Captures a photo using the webcam and saves it as the target face.\"\"\"\n",
    "    cap = cv2.VideoCapture(0)\n",
    "\n",
    "    if not cap.isOpened():\n",
    "        print(\"Could not open video device\")\n",
    "        return False\n",
    "\n",
    "    ret, frame = cap.read()\n",
    "    if not ret:\n",
    "        print(\"Failed to capture image\")\n",
    "        return False\n",
    "\n",
    "    # Save the captured image\n",
    "    cv2.imwrite(file_path, frame)\n",
    "    cap.release()\n",
    "    return True\n",
    "\n",
    "# Capture the target face and save it\n",
    "if not capture_target_face(\"tanvi.jpg\"):\n",
    "    print(\"Failed to capture the target face.\")\n",
    "    exit(1)\n",
    "\n",
    "# Load the image of the person we're looking for\n",
    "target_image_path = \"tanvi.jpg\"\n",
    "target_image = face_recognition.load_image_file(target_image_path)\n",
    "target_face_encoding = face_recognition.face_encodings(target_image)[0]\n",
    "\n",
    "# Create a directory for detected faces if it doesn't exist\n",
    "detected_faces_dir = 'detected_faces'\n",
    "if not os.path.exists(detected_faces_dir):\n",
    "    os.makedirs(detected_faces_dir)\n",
    "\n",
    "# Path to the directory containing all the images to scan\n",
    "images_dir = \"tanvis\"\n",
    "\n",
    "# Loop through all the images in the directory\n",
    "for image_file in os.listdir(images_dir):\n",
    "    # Construct the full path to the image\n",
    "    image_path = os.path.join(images_dir, image_file)\n",
    "    \n",
    "    # Load the image using face_recognition\n",
    "    current_image = face_recognition.load_image_file(image_path)\n",
    "    \n",
    "    # Attempt to find faces in the current image\n",
    "    current_image_encodings = face_recognition.face_encodings(current_image)\n",
    "    \n",
    "    # If no faces are found, skip to the next image\n",
    "    if len(current_image_encodings) == 0:\n",
    "        continue\n",
    "    \n",
    "    # Loop through each face found in the current image\n",
    "    for face_encoding in current_image_encodings:\n",
    "        # Check if the face matches the target face\n",
    "        results = face_recognition.compare_faces([target_face_encoding], face_encoding, tolerance=0.6)\n",
    "        \n",
    "        # If a match is found, save the image to the detected_faces directory\n",
    "        if True in results:\n",
    "            copy2(image_path, detected_faces_dir)\n",
    "            break  # No need to check the remaining faces, move to the next image\n",
    "\n",
    "print(\"Process completed.\")\n"
   ]
  },
  {
   "cell_type": "code",
   "execution_count": null,
   "metadata": {},
   "outputs": [],
   "source": []
  }
 ],
 "metadata": {
  "kernelspec": {
   "display_name": "face_scrapper",
   "language": "python",
   "name": "python3"
  },
  "language_info": {
   "codemirror_mode": {
    "name": "ipython",
    "version": 3
   },
   "file_extension": ".py",
   "mimetype": "text/x-python",
   "name": "python",
   "nbconvert_exporter": "python",
   "pygments_lexer": "ipython3",
   "version": "3.10.10"
  }
 },
 "nbformat": 4,
 "nbformat_minor": 2
}
